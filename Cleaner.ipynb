{
 "cells": [
  {
   "cell_type": "markdown",
   "metadata": {},
   "source": [
    "# dClimate client"
   ]
  },
  {
   "cell_type": "code",
   "execution_count": 1,
   "metadata": {},
   "outputs": [],
   "source": [
    "import dweather_client"
   ]
  },
  {
   "cell_type": "code",
   "execution_count": 2,
   "metadata": {},
   "outputs": [],
   "source": [
    "from dweather_client import client"
   ]
  },
  {
   "cell_type": "code",
   "execution_count": 8,
   "metadata": {},
   "outputs": [],
   "source": [
    "valid_name = client.get_heads()"
   ]
  },
  {
   "cell_type": "code",
   "execution_count": 9,
   "metadata": {},
   "outputs": [
    {
     "data": {
      "text/plain": [
       "{'aemo-semihourly': 'QmQ6u61Xo5RbY97L75p1KHBBHWACHvyrXNyM1Vsd4uZbq9',\n",
       " 'alberta_power-hourly': 'Qmf8arcP3FFNLKtfeg2Jqdqu48LdMGam6UWHe3Uu2pj7Kj',\n",
       " 'atcf_btk-seasonal': 'QmUhXgUpCQbP6nwA4w1ijNP1wrMcRfA9eaSDEkwbito7cQ',\n",
       " 'chirpsc_final_05-daily': 'QmfEuyqJyUnmfq9Um5jzSpe8gAPfif9p3ixTcqQfWeHtm7',\n",
       " 'chirpsc_final_25-daily': 'QmVNqmPAtAvtVshNRf9Vm8katrubztWSHHKMHeF9zrRhTk',\n",
       " 'chirpsc_prelim_05-daily': 'QmenYP6W3y5Frov2L97fpLfCeWbCVBEhskydD8Kxq6QV4x',\n",
       " 'cpcc_precip_global-daily': 'Qma25QsFG5kKuBXLC152wPditUg9qq9m1mKPYiGTmRexpg',\n",
       " 'cpcc_precip_us-daily': 'QmNcRpr5f3LJhSsqhDCsteG4PtVKsReyE6uVRT8MtC5wDm',\n",
       " 'cpcc_temp_max-daily': 'QmawphhCFzRsQN2TjZZhb7p9ucjvsj3h2bcTUybVM46mFW',\n",
       " 'cpcc_temp_min-daily': 'QmZwQ2wUhg4q3FGVEqKB4HQz231P2cxAHuGeyVtg7yuuYe',\n",
       " 'edd-daily': 'QmZ741Q1UJjwp5VXf79f3yW7dr8gJv6rF8WVtNVjgv5n8C',\n",
       " 'era5_land_2m_temp-hourly': 'Qmay7EYxDbzm9256rSq34qeKHMhbQcEoXxmu28Gp9cxE3G',\n",
       " 'era5_land_precip-hourly': 'Qmc8dsgg3RxeusfMREUGCfPVMasbGDWSm7dLQ8WJbkSR9R',\n",
       " 'era5_land_snowfall-hourly': 'QmTvn2MTbDytx3Ndq4p3TEDwhAbwESDLbzyzg6NzwX9859',\n",
       " 'era5_land_wind_u-hourly': 'Qmet3kNoRaC2GweHFXiVTEuvB7kihMEWLKxN7L1ktfFcoH',\n",
       " 'era5_land_wind_v-hourly': 'QmZcDvm7QkuDuUrAbc6BGQCj2jfZ2rusw3Tv3UTwa6pseF',\n",
       " 'era5_surface_runoff-hourly': 'QmRsdQBquXF45E7P92FW6tkNSjkK88ptV68p9U65VkYByV',\n",
       " 'era5_volumetric_soil_water_layer_1-hourly': 'Qmc9jDBmVmC3d3d1hYkLFjKmBFWcHX2FjAAAyN3D2f64zn',\n",
       " 'era5_wind_100m_u-hourly': 'QmYAY9PTMvwuiNoJUdeVd3cYGfn9X4dqHNCb29GEGPFSUY',\n",
       " 'era5_wind_100m_v-hourly': 'QmWQ6sndArwXca9vwfEeg3RJXAw8ZV9AdFzQEa3vxa5uR4',\n",
       " 'ghcnd': 'QmdMaj2xQ5GZyv1ZR58Wuc5XVdtHo7tjqwv3kPAxa3opPV',\n",
       " 'ghcnd-imputed-daily': 'Qmbo8KcpyjfQjwKc5c4P1P5huP2rEsV3Us2FSAg9ieg8gV',\n",
       " 'ibtracs-tropical-storm': 'QmSVj332mrZ4dEPBCkXXNf8tdXdVKhiJUERdBDywdee1ix',\n",
       " 'ibtracs_storm_basins': 'QmbweRv3g8VofeLB1kT7azXJ3Z31i2CNHiAXypoXbtecQG',\n",
       " 'nass_corn-yearly': 'QmYjXRzthABhccUG816774ZJdtsMrn9JnzGeSUSc6RfRKw',\n",
       " 'nass_soybeans-yearly': 'QmTmEbMoHWKc39uAQoRHavUKzfYDcoGLxjzwqgcSLmTnjF',\n",
       " 'prismc-precip-daily': 'QmX7M7zCQyH96NHbRzKPw7osWfZAdgJQGYQ3bWzwuAgVvU',\n",
       " 'prismc-tmax-daily': 'QmNib7ndJgizT1rx4hKH99UAfx2DgbrZChvUj19MTBeieR',\n",
       " 'prismc-tmin-daily': 'QmeRkswobQW9vfaPb7EMEHMVEeM2kMUB7ARMDXw8Rq4dov',\n",
       " 'rma_t_yield-single-value': 'QmSRVxXJwpnC8suuJ56rL1KQdhyBdfkQyRXUDEjNMyrTcf',\n",
       " 'rma_t_yield_imputed-single-value': 'QmcnHf8PpQ9CEyYGVbhCKBA1biK7Xpqrhq3VMpbjNSdDYM',\n",
       " 'rmasco_imputed-yearly': 'QmQ8amKRc2AZrE1C73hkao1vDCeKoL1XhLTfgtW2sS1Cjh',\n",
       " 'rtma_dew_point-hourly': 'QmaLAarvpUGbGCXMUeCPMEm5ByHcZ9YRLN6mt9wVYEx9DJ',\n",
       " 'rtma_pcp-hourly': 'QmSL645DARGXAygKgxkrxaLtotjYwQhAx8mnKFAfJnXWUD',\n",
       " 'rtma_temp-hourly': 'QmVfHpD8rAb3zk1gisdi8XFyxH1it7eGQb6mt48j9BBx63',\n",
       " 'rtma_wind_u-hourly': 'QmWH5D7AQyJupEuerP9zkL6rqb4u9X1zt13xfxFwmgbej7',\n",
       " 'rtma_wind_v-hourly': 'QmRNvxW971GdyvkhUWHSWdCRAoZ8wnbV6zYhraR1J16GL8',\n",
       " 'sco-yearly': 'QmeQD3DMR4F1MckAz6kBYRY4x8b6SGrTTAgnCiLyeuEPZd',\n",
       " 'storm-simulated-hurricane': 'QmaAunmd9YaJYFJYS5di8e53yGduGh3MChcsHg8XGPeqhX',\n",
       " 'teleconnections-el-nino-monthly': 'QmcfZLWWeA7a6kXPmGnJFYzSCisi6b1TfTodCL9afVEHPP',\n",
       " 'vhi': 'QmfFKKEznuuXhoGQ6Zy3WP9HfAsjEnHwk6mpo44j1AFwtP'}"
      ]
     },
     "execution_count": 9,
     "metadata": {},
     "output_type": "execute_result"
    }
   ],
   "source": [
    "valid_name"
   ]
  },
  {
   "cell_type": "code",
   "execution_count": 7,
   "metadata": {},
   "outputs": [],
   "source": [
    "metadata = client.get_metadata(valid_name[\"cpcc_temp_max-daily\"])"
   ]
  },
  {
   "cell_type": "code",
   "execution_count": 8,
   "metadata": {},
   "outputs": [
    {
     "data": {
      "text/plain": [
       "{'name': 'cpc_temp_max',\n",
       " 'local path': './cpc/temp/max/20210702',\n",
       " 'chain file': 'chain.json',\n",
       " 'climate category': 'temperature',\n",
       " 'compression': 'gzip',\n",
       " 'date range': ['2021-07-02T00:00:00', '2021-07-02T00:00:00'],\n",
       " 'entry delimiter': ',',\n",
       " 'filename decimal precision': 3,\n",
       " 'latitude range': [-89.75, 89.75],\n",
       " 'longitude range': [0.25, 359.75],\n",
       " 'missing value': '',\n",
       " 'period': 'daily',\n",
       " 'precision': 0.01,\n",
       " 'precision digits': 2,\n",
       " 'previous hash': 'QmNsJ4m127NS6Zz2vmqRcBNNUA2F4kc23W9Cq9tjfctU9n',\n",
       " 'resolution': 0.5,\n",
       " 'revision': 'final',\n",
       " 'documentation': {'cpc original data url': 'ftp://ftp.cpc.ncep.noaa.gov/',\n",
       "  'cpc info url': 'https://www.cpc.ncep.noaa.gov/',\n",
       "  'arbol chain info': \"Follow the hashes in the 'previous hash' field backward until you reach a 'previous hash' value of 'null' to read the entire history of this set. Alternatively, you can get the entire chain of hashes from the 'chain.json' file in this directory\",\n",
       "  'arbol clustering': 'In all sets besides the root set, latitudes are compiled into zip or tar archives (code should be written to handle both cases) that contain each lat/lon in the latitude'},\n",
       " 'time generated': '2021-07-03 17:28:25.230784',\n",
       " 'unit of measurement': 'degC',\n",
       " 'year delimiter': '\\n',\n",
       " 'climate index': 'temperature'}"
      ]
     },
     "execution_count": 8,
     "metadata": {},
     "output_type": "execute_result"
    }
   ],
   "source": [
    "metadata"
   ]
  },
  {
   "cell_type": "markdown",
   "metadata": {},
   "source": [
    "# Preprocessing csv volumetric soil data"
   ]
  },
  {
   "cell_type": "code",
   "execution_count": 10,
   "metadata": {},
   "outputs": [],
   "source": [
    "import pandas as pd\n",
    "import os"
   ]
  },
  {
   "cell_type": "code",
   "execution_count": 17,
   "metadata": {},
   "outputs": [],
   "source": [
    "def import_volumetric(filename):\n",
    "    # Function to read data from local csv file on the hard drive\n",
    "    # Args:\n",
    "    # - filename : the file name of the csv which contains\n",
    "    #   forecasts data of volumetric soil data\n",
    "    # - the function return data var\n",
    "    filename = os.path.join(os.path.abspath(\"\"), filename)\n",
    "    df = pd.read_csv(filename)\n",
    "    return df.tail"
   ]
  },
  {
   "cell_type": "code",
   "execution_count": 19,
   "metadata": {},
   "outputs": [],
   "source": [
    "file = \"era5_volumetric_soil_water_layer_1-hourly-5.0405866_7.9194225.csv\"\n",
    "df = import_volumetric(file)"
   ]
  },
  {
   "cell_type": "code",
   "execution_count": 24,
   "metadata": {},
   "outputs": [
    {
     "data": {
      "text/plain": [
       "<bound method NDFrame.tail of                              date  value\n",
       "0       1979-01-01 01:00:00+01:00  0.330\n",
       "1       1979-01-01 02:00:00+01:00  0.330\n",
       "2       1979-01-01 03:00:00+01:00  0.330\n",
       "3       1979-01-01 04:00:00+01:00  0.330\n",
       "4       1979-01-01 05:00:00+01:00  0.330\n",
       "...                           ...    ...\n",
       "373073  2021-07-23 18:00:00+01:00  0.459\n",
       "373074  2021-07-23 19:00:00+01:00  0.457\n",
       "373075  2021-07-23 20:00:00+01:00  0.456\n",
       "373076  2021-07-23 21:00:00+01:00  0.455\n",
       "373077  2021-07-23 22:00:00+01:00  0.453\n",
       "\n",
       "[373078 rows x 2 columns]>"
      ]
     },
     "execution_count": 24,
     "metadata": {},
     "output_type": "execute_result"
    }
   ],
   "source": [
    "df"
   ]
  },
  {
   "cell_type": "code",
   "execution_count": null,
   "metadata": {},
   "outputs": [],
   "source": []
  }
 ],
 "metadata": {
  "kernelspec": {
   "display_name": "Python 3",
   "language": "python",
   "name": "python3"
  },
  "language_info": {
   "codemirror_mode": {
    "name": "ipython",
    "version": 3
   },
   "file_extension": ".py",
   "mimetype": "text/x-python",
   "name": "python",
   "nbconvert_exporter": "python",
   "pygments_lexer": "ipython3",
   "version": "3.6.9"
  }
 },
 "nbformat": 4,
 "nbformat_minor": 4
}
