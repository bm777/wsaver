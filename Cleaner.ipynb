{
 "cells": [
  {
   "cell_type": "markdown",
   "metadata": {},
   "source": [
    "# dClimate client"
   ]
  },
  {
   "cell_type": "code",
   "execution_count": 1,
   "metadata": {},
   "outputs": [],
   "source": [
    "import dweather_client"
   ]
  },
  {
   "cell_type": "code",
   "execution_count": 2,
   "metadata": {},
   "outputs": [],
   "source": [
    "from dweather_client import client"
   ]
  },
  {
   "cell_type": "code",
   "execution_count": 8,
   "metadata": {},
   "outputs": [],
   "source": [
    "valid_name = client.get_heads()"
   ]
  },
  {
   "cell_type": "code",
   "execution_count": 9,
   "metadata": {},
   "outputs": [
    {
     "data": {
      "text/plain": [
       "{'aemo-semihourly': 'QmQ6u61Xo5RbY97L75p1KHBBHWACHvyrXNyM1Vsd4uZbq9',\n",
       " 'alberta_power-hourly': 'Qmf8arcP3FFNLKtfeg2Jqdqu48LdMGam6UWHe3Uu2pj7Kj',\n",
       " 'atcf_btk-seasonal': 'QmUhXgUpCQbP6nwA4w1ijNP1wrMcRfA9eaSDEkwbito7cQ',\n",
       " 'chirpsc_final_05-daily': 'QmfEuyqJyUnmfq9Um5jzSpe8gAPfif9p3ixTcqQfWeHtm7',\n",
       " 'chirpsc_final_25-daily': 'QmVNqmPAtAvtVshNRf9Vm8katrubztWSHHKMHeF9zrRhTk',\n",
       " 'chirpsc_prelim_05-daily': 'QmenYP6W3y5Frov2L97fpLfCeWbCVBEhskydD8Kxq6QV4x',\n",
       " 'cpcc_precip_global-daily': 'Qma25QsFG5kKuBXLC152wPditUg9qq9m1mKPYiGTmRexpg',\n",
       " 'cpcc_precip_us-daily': 'QmNcRpr5f3LJhSsqhDCsteG4PtVKsReyE6uVRT8MtC5wDm',\n",
       " 'cpcc_temp_max-daily': 'QmawphhCFzRsQN2TjZZhb7p9ucjvsj3h2bcTUybVM46mFW',\n",
       " 'cpcc_temp_min-daily': 'QmZwQ2wUhg4q3FGVEqKB4HQz231P2cxAHuGeyVtg7yuuYe',\n",
       " 'edd-daily': 'QmZ741Q1UJjwp5VXf79f3yW7dr8gJv6rF8WVtNVjgv5n8C',\n",
       " 'era5_land_2m_temp-hourly': 'Qmay7EYxDbzm9256rSq34qeKHMhbQcEoXxmu28Gp9cxE3G',\n",
       " 'era5_land_precip-hourly': 'Qmc8dsgg3RxeusfMREUGCfPVMasbGDWSm7dLQ8WJbkSR9R',\n",
       " 'era5_land_snowfall-hourly': 'QmTvn2MTbDytx3Ndq4p3TEDwhAbwESDLbzyzg6NzwX9859',\n",
       " 'era5_land_wind_u-hourly': 'Qmet3kNoRaC2GweHFXiVTEuvB7kihMEWLKxN7L1ktfFcoH',\n",
       " 'era5_land_wind_v-hourly': 'QmZcDvm7QkuDuUrAbc6BGQCj2jfZ2rusw3Tv3UTwa6pseF',\n",
       " 'era5_surface_runoff-hourly': 'QmRsdQBquXF45E7P92FW6tkNSjkK88ptV68p9U65VkYByV',\n",
       " 'era5_volumetric_soil_water_layer_1-hourly': 'Qmc9jDBmVmC3d3d1hYkLFjKmBFWcHX2FjAAAyN3D2f64zn',\n",
       " 'era5_wind_100m_u-hourly': 'QmYAY9PTMvwuiNoJUdeVd3cYGfn9X4dqHNCb29GEGPFSUY',\n",
       " 'era5_wind_100m_v-hourly': 'QmWQ6sndArwXca9vwfEeg3RJXAw8ZV9AdFzQEa3vxa5uR4',\n",
       " 'ghcnd': 'QmdMaj2xQ5GZyv1ZR58Wuc5XVdtHo7tjqwv3kPAxa3opPV',\n",
       " 'ghcnd-imputed-daily': 'Qmbo8KcpyjfQjwKc5c4P1P5huP2rEsV3Us2FSAg9ieg8gV',\n",
       " 'ibtracs-tropical-storm': 'QmSVj332mrZ4dEPBCkXXNf8tdXdVKhiJUERdBDywdee1ix',\n",
       " 'ibtracs_storm_basins': 'QmbweRv3g8VofeLB1kT7azXJ3Z31i2CNHiAXypoXbtecQG',\n",
       " 'nass_corn-yearly': 'QmYjXRzthABhccUG816774ZJdtsMrn9JnzGeSUSc6RfRKw',\n",
       " 'nass_soybeans-yearly': 'QmTmEbMoHWKc39uAQoRHavUKzfYDcoGLxjzwqgcSLmTnjF',\n",
       " 'prismc-precip-daily': 'QmX7M7zCQyH96NHbRzKPw7osWfZAdgJQGYQ3bWzwuAgVvU',\n",
       " 'prismc-tmax-daily': 'QmNib7ndJgizT1rx4hKH99UAfx2DgbrZChvUj19MTBeieR',\n",
       " 'prismc-tmin-daily': 'QmeRkswobQW9vfaPb7EMEHMVEeM2kMUB7ARMDXw8Rq4dov',\n",
       " 'rma_t_yield-single-value': 'QmSRVxXJwpnC8suuJ56rL1KQdhyBdfkQyRXUDEjNMyrTcf',\n",
       " 'rma_t_yield_imputed-single-value': 'QmcnHf8PpQ9CEyYGVbhCKBA1biK7Xpqrhq3VMpbjNSdDYM',\n",
       " 'rmasco_imputed-yearly': 'QmQ8amKRc2AZrE1C73hkao1vDCeKoL1XhLTfgtW2sS1Cjh',\n",
       " 'rtma_dew_point-hourly': 'QmaLAarvpUGbGCXMUeCPMEm5ByHcZ9YRLN6mt9wVYEx9DJ',\n",
       " 'rtma_pcp-hourly': 'QmSL645DARGXAygKgxkrxaLtotjYwQhAx8mnKFAfJnXWUD',\n",
       " 'rtma_temp-hourly': 'QmVfHpD8rAb3zk1gisdi8XFyxH1it7eGQb6mt48j9BBx63',\n",
       " 'rtma_wind_u-hourly': 'QmWH5D7AQyJupEuerP9zkL6rqb4u9X1zt13xfxFwmgbej7',\n",
       " 'rtma_wind_v-hourly': 'QmRNvxW971GdyvkhUWHSWdCRAoZ8wnbV6zYhraR1J16GL8',\n",
       " 'sco-yearly': 'QmeQD3DMR4F1MckAz6kBYRY4x8b6SGrTTAgnCiLyeuEPZd',\n",
       " 'storm-simulated-hurricane': 'QmaAunmd9YaJYFJYS5di8e53yGduGh3MChcsHg8XGPeqhX',\n",
       " 'teleconnections-el-nino-monthly': 'QmcfZLWWeA7a6kXPmGnJFYzSCisi6b1TfTodCL9afVEHPP',\n",
       " 'vhi': 'QmfFKKEznuuXhoGQ6Zy3WP9HfAsjEnHwk6mpo44j1AFwtP'}"
      ]
     },
     "execution_count": 9,
     "metadata": {},
     "output_type": "execute_result"
    }
   ],
   "source": [
    "valid_name"
   ]
  },
  {
   "cell_type": "code",
   "execution_count": 7,
   "metadata": {},
   "outputs": [],
   "source": [
    "metadata = client.get_metadata(valid_name[\"cpcc_temp_max-daily\"])"
   ]
  },
  {
   "cell_type": "code",
   "execution_count": 8,
   "metadata": {},
   "outputs": [
    {
     "data": {
      "text/plain": [
       "{'name': 'cpc_temp_max',\n",
       " 'local path': './cpc/temp/max/20210702',\n",
       " 'chain file': 'chain.json',\n",
       " 'climate category': 'temperature',\n",
       " 'compression': 'gzip',\n",
       " 'date range': ['2021-07-02T00:00:00', '2021-07-02T00:00:00'],\n",
       " 'entry delimiter': ',',\n",
       " 'filename decimal precision': 3,\n",
       " 'latitude range': [-89.75, 89.75],\n",
       " 'longitude range': [0.25, 359.75],\n",
       " 'missing value': '',\n",
       " 'period': 'daily',\n",
       " 'precision': 0.01,\n",
       " 'precision digits': 2,\n",
       " 'previous hash': 'QmNsJ4m127NS6Zz2vmqRcBNNUA2F4kc23W9Cq9tjfctU9n',\n",
       " 'resolution': 0.5,\n",
       " 'revision': 'final',\n",
       " 'documentation': {'cpc original data url': 'ftp://ftp.cpc.ncep.noaa.gov/',\n",
       "  'cpc info url': 'https://www.cpc.ncep.noaa.gov/',\n",
       "  'arbol chain info': \"Follow the hashes in the 'previous hash' field backward until you reach a 'previous hash' value of 'null' to read the entire history of this set. Alternatively, you can get the entire chain of hashes from the 'chain.json' file in this directory\",\n",
       "  'arbol clustering': 'In all sets besides the root set, latitudes are compiled into zip or tar archives (code should be written to handle both cases) that contain each lat/lon in the latitude'},\n",
       " 'time generated': '2021-07-03 17:28:25.230784',\n",
       " 'unit of measurement': 'degC',\n",
       " 'year delimiter': '\\n',\n",
       " 'climate index': 'temperature'}"
      ]
     },
     "execution_count": 8,
     "metadata": {},
     "output_type": "execute_result"
    }
   ],
   "source": [
    "metadata"
   ]
  },
  {
   "cell_type": "markdown",
   "metadata": {},
   "source": [
    "# Preprocessing csv volumetric soil data"
   ]
  },
  {
   "cell_type": "code",
   "execution_count": 36,
   "metadata": {},
   "outputs": [],
   "source": [
    "import pandas as pd\n",
    "import os\n",
    "#from datetime import datetime"
   ]
  },
  {
   "cell_type": "code",
   "execution_count": 93,
   "metadata": {},
   "outputs": [],
   "source": [
    "def import_volumetric(filename):\n",
    "    # Function to read data from local csv file on the hard drive\n",
    "    # Args:\n",
    "    # - filename : the file name of the csv which contains\n",
    "    #   forecasts data of volumetric soil data\n",
    "    # - the function return data var\n",
    "    filename = os.path.join(os.path.abspath(\"\"), filename)\n",
    "    df = pd.read_csv(filename)\n",
    "    return df"
   ]
  },
  {
   "cell_type": "code",
   "execution_count": 142,
   "metadata": {},
   "outputs": [],
   "source": [
    "file = \"era5_volumetric_soil_water_layer_1-hourly-5.0405866_7.9194225.csv\"\n",
    "df = import_volumetric(file)"
   ]
  },
  {
   "cell_type": "code",
   "execution_count": 143,
   "metadata": {},
   "outputs": [
    {
     "data": {
      "text/html": [
       "<div>\n",
       "<style scoped>\n",
       "    .dataframe tbody tr th:only-of-type {\n",
       "        vertical-align: middle;\n",
       "    }\n",
       "\n",
       "    .dataframe tbody tr th {\n",
       "        vertical-align: top;\n",
       "    }\n",
       "\n",
       "    .dataframe thead th {\n",
       "        text-align: right;\n",
       "    }\n",
       "</style>\n",
       "<table border=\"1\" class=\"dataframe\">\n",
       "  <thead>\n",
       "    <tr style=\"text-align: right;\">\n",
       "      <th></th>\n",
       "      <th>date</th>\n",
       "      <th>value</th>\n",
       "    </tr>\n",
       "  </thead>\n",
       "  <tbody>\n",
       "    <tr>\n",
       "      <th>0</th>\n",
       "      <td>1979-01-01 00:00:00</td>\n",
       "      <td>0.330</td>\n",
       "    </tr>\n",
       "    <tr>\n",
       "      <th>1</th>\n",
       "      <td>1979-01-01 01:00:00</td>\n",
       "      <td>0.330</td>\n",
       "    </tr>\n",
       "    <tr>\n",
       "      <th>2</th>\n",
       "      <td>1979-01-01 02:00:00</td>\n",
       "      <td>0.330</td>\n",
       "    </tr>\n",
       "    <tr>\n",
       "      <th>3</th>\n",
       "      <td>1979-01-01 03:00:00</td>\n",
       "      <td>0.330</td>\n",
       "    </tr>\n",
       "    <tr>\n",
       "      <th>4</th>\n",
       "      <td>1979-01-01 04:00:00</td>\n",
       "      <td>0.330</td>\n",
       "    </tr>\n",
       "    <tr>\n",
       "      <th>...</th>\n",
       "      <td>...</td>\n",
       "      <td>...</td>\n",
       "    </tr>\n",
       "    <tr>\n",
       "      <th>373121</th>\n",
       "      <td>2021-07-25 17:00:00</td>\n",
       "      <td>0.431</td>\n",
       "    </tr>\n",
       "    <tr>\n",
       "      <th>373122</th>\n",
       "      <td>2021-07-25 18:00:00</td>\n",
       "      <td>0.431</td>\n",
       "    </tr>\n",
       "    <tr>\n",
       "      <th>373123</th>\n",
       "      <td>2021-07-25 19:00:00</td>\n",
       "      <td>0.431</td>\n",
       "    </tr>\n",
       "    <tr>\n",
       "      <th>373124</th>\n",
       "      <td>2021-07-25 20:00:00</td>\n",
       "      <td>0.431</td>\n",
       "    </tr>\n",
       "    <tr>\n",
       "      <th>373125</th>\n",
       "      <td>2021-07-25 21:00:00</td>\n",
       "      <td>0.432</td>\n",
       "    </tr>\n",
       "  </tbody>\n",
       "</table>\n",
       "<p>373126 rows × 2 columns</p>\n",
       "</div>"
      ],
      "text/plain": [
       "                       date  value\n",
       "0       1979-01-01 00:00:00  0.330\n",
       "1       1979-01-01 01:00:00  0.330\n",
       "2       1979-01-01 02:00:00  0.330\n",
       "3       1979-01-01 03:00:00  0.330\n",
       "4       1979-01-01 04:00:00  0.330\n",
       "...                     ...    ...\n",
       "373121  2021-07-25 17:00:00  0.431\n",
       "373122  2021-07-25 18:00:00  0.431\n",
       "373123  2021-07-25 19:00:00  0.431\n",
       "373124  2021-07-25 20:00:00  0.431\n",
       "373125  2021-07-25 21:00:00  0.432\n",
       "\n",
       "[373126 rows x 2 columns]"
      ]
     },
     "execution_count": 143,
     "metadata": {},
     "output_type": "execute_result"
    }
   ],
   "source": [
    "df"
   ]
  },
  {
   "cell_type": "code",
   "execution_count": null,
   "metadata": {},
   "outputs": [],
   "source": []
  },
  {
   "cell_type": "code",
   "execution_count": 145,
   "metadata": {},
   "outputs": [],
   "source": [
    "label = \"2021-01-07 00:00:00\"\n",
    "result = df.loc[label == df[\"date\"]]"
   ]
  },
  {
   "cell_type": "code",
   "execution_count": 146,
   "metadata": {},
   "outputs": [],
   "source": [
    "value_of_result = df.loc[label == df[\"date\"], [\"date\",\"value\"]]"
   ]
  },
  {
   "cell_type": "code",
   "execution_count": 147,
   "metadata": {},
   "outputs": [
    {
     "data": {
      "text/plain": [
       "0.32"
      ]
     },
     "execution_count": 147,
     "metadata": {},
     "output_type": "execute_result"
    }
   ],
   "source": [
    "value_of_result[\"value\"].tolist()[0]"
   ]
  },
  {
   "cell_type": "code",
   "execution_count": 148,
   "metadata": {},
   "outputs": [],
   "source": [
    "result = value_of_result.index[0]"
   ]
  },
  {
   "cell_type": "code",
   "execution_count": 149,
   "metadata": {},
   "outputs": [],
   "source": [
    "current = result\n",
    "selection = df.iloc[current-24*12 : current]"
   ]
  },
  {
   "cell_type": "code",
   "execution_count": 150,
   "metadata": {},
   "outputs": [
    {
     "data": {
      "text/html": [
       "<div>\n",
       "<style scoped>\n",
       "    .dataframe tbody tr th:only-of-type {\n",
       "        vertical-align: middle;\n",
       "    }\n",
       "\n",
       "    .dataframe tbody tr th {\n",
       "        vertical-align: top;\n",
       "    }\n",
       "\n",
       "    .dataframe thead th {\n",
       "        text-align: right;\n",
       "    }\n",
       "</style>\n",
       "<table border=\"1\" class=\"dataframe\">\n",
       "  <thead>\n",
       "    <tr style=\"text-align: right;\">\n",
       "      <th></th>\n",
       "      <th>date</th>\n",
       "      <th>value</th>\n",
       "    </tr>\n",
       "  </thead>\n",
       "  <tbody>\n",
       "    <tr>\n",
       "      <th>368040</th>\n",
       "      <td>2020-12-26 00:00:00</td>\n",
       "      <td>0.33</td>\n",
       "    </tr>\n",
       "    <tr>\n",
       "      <th>368041</th>\n",
       "      <td>2020-12-26 01:00:00</td>\n",
       "      <td>0.33</td>\n",
       "    </tr>\n",
       "    <tr>\n",
       "      <th>368042</th>\n",
       "      <td>2020-12-26 02:00:00</td>\n",
       "      <td>0.33</td>\n",
       "    </tr>\n",
       "    <tr>\n",
       "      <th>368043</th>\n",
       "      <td>2020-12-26 03:00:00</td>\n",
       "      <td>0.33</td>\n",
       "    </tr>\n",
       "    <tr>\n",
       "      <th>368044</th>\n",
       "      <td>2020-12-26 04:00:00</td>\n",
       "      <td>0.33</td>\n",
       "    </tr>\n",
       "    <tr>\n",
       "      <th>...</th>\n",
       "      <td>...</td>\n",
       "      <td>...</td>\n",
       "    </tr>\n",
       "    <tr>\n",
       "      <th>368323</th>\n",
       "      <td>2021-01-06 19:00:00</td>\n",
       "      <td>0.32</td>\n",
       "    </tr>\n",
       "    <tr>\n",
       "      <th>368324</th>\n",
       "      <td>2021-01-06 20:00:00</td>\n",
       "      <td>0.32</td>\n",
       "    </tr>\n",
       "    <tr>\n",
       "      <th>368325</th>\n",
       "      <td>2021-01-06 21:00:00</td>\n",
       "      <td>0.32</td>\n",
       "    </tr>\n",
       "    <tr>\n",
       "      <th>368326</th>\n",
       "      <td>2021-01-06 22:00:00</td>\n",
       "      <td>0.32</td>\n",
       "    </tr>\n",
       "    <tr>\n",
       "      <th>368327</th>\n",
       "      <td>2021-01-06 23:00:00</td>\n",
       "      <td>0.32</td>\n",
       "    </tr>\n",
       "  </tbody>\n",
       "</table>\n",
       "<p>288 rows × 2 columns</p>\n",
       "</div>"
      ],
      "text/plain": [
       "                       date  value\n",
       "368040  2020-12-26 00:00:00   0.33\n",
       "368041  2020-12-26 01:00:00   0.33\n",
       "368042  2020-12-26 02:00:00   0.33\n",
       "368043  2020-12-26 03:00:00   0.33\n",
       "368044  2020-12-26 04:00:00   0.33\n",
       "...                     ...    ...\n",
       "368323  2021-01-06 19:00:00   0.32\n",
       "368324  2021-01-06 20:00:00   0.32\n",
       "368325  2021-01-06 21:00:00   0.32\n",
       "368326  2021-01-06 22:00:00   0.32\n",
       "368327  2021-01-06 23:00:00   0.32\n",
       "\n",
       "[288 rows x 2 columns]"
      ]
     },
     "execution_count": 150,
     "metadata": {},
     "output_type": "execute_result"
    }
   ],
   "source": [
    "selection"
   ]
  },
  {
   "cell_type": "code",
   "execution_count": 152,
   "metadata": {},
   "outputs": [],
   "source": [
    "list_selection = selection[\"value\"].tolist()"
   ]
  },
  {
   "cell_type": "code",
   "execution_count": 153,
   "metadata": {},
   "outputs": [],
   "source": [
    "data = value_of_result[\"value\"].tolist()[0]"
   ]
  },
  {
   "cell_type": "code",
   "execution_count": 154,
   "metadata": {},
   "outputs": [],
   "source": [
    "final = len([x for x in list_selection if data > x])"
   ]
  },
  {
   "cell_type": "code",
   "execution_count": 155,
   "metadata": {},
   "outputs": [
    {
     "data": {
      "text/plain": [
       "68.40277777777779"
      ]
     },
     "execution_count": 155,
     "metadata": {},
     "output_type": "execute_result"
    }
   ],
   "source": [
    "(final/288) * 100"
   ]
  },
  {
   "cell_type": "code",
   "execution_count": 156,
   "metadata": {},
   "outputs": [
    {
     "data": {
      "text/plain": [
       "368328"
      ]
     },
     "execution_count": 156,
     "metadata": {},
     "output_type": "execute_result"
    }
   ],
   "source": [
    "result"
   ]
  },
  {
   "cell_type": "markdown",
   "metadata": {},
   "source": [
    "# Preprocessing of Wind speed data"
   ]
  },
  {
   "cell_type": "code",
   "execution_count": 172,
   "metadata": {},
   "outputs": [],
   "source": [
    "def import_and_merge_wind(file1, file2):\n",
    "    # Function to read data from local csv file on the hard drive\n",
    "    # Args:\n",
    "    # - filename : the file name of the csv which contains\n",
    "    #   forecasts data of wind speed data\n",
    "    # - the function return merged dataframe based on date column\n",
    "    file1 = os.path.join(os.path.abspath(\"\"), file1)\n",
    "    file2 = os.path.join(os.path.abspath(\"\"), file2)\n",
    "    \n",
    "    # load csv file on dataframe\n",
    "    df1 = pd.read_csv(file1)\n",
    "    df2 = pd.read_csv(file2)\n",
    "    \n",
    "    # split the df\n",
    "    df1[]\n",
    "    \n",
    "    # merge df1 and df2 based on date column\n",
    "    df = pd.merge(df1, df2, on=\"date\")\n",
    "    \n",
    "    return df"
   ]
  },
  {
   "cell_type": "code",
   "execution_count": 175,
   "metadata": {},
   "outputs": [],
   "source": [
    "file_u = \"era5_wind_100m_u-hourly-5.0405866_7.9194225.csv\""
   ]
  },
  {
   "cell_type": "code",
   "execution_count": 176,
   "metadata": {},
   "outputs": [],
   "source": [
    "df = import_volumetric(file_u)"
   ]
  },
  {
   "cell_type": "code",
   "execution_count": 180,
   "metadata": {},
   "outputs": [
    {
     "ename": "ValueError",
     "evalue": "could not broadcast input array from shape (4) into shape (373150,1)",
     "output_type": "error",
     "traceback": [
      "\u001b[0;31m---------------------------------------------------------------------------\u001b[0m",
      "\u001b[0;31mValueError\u001b[0m                                Traceback (most recent call last)",
      "\u001b[0;32m<ipython-input-180-26bfcea83028>\u001b[0m in \u001b[0;36m<module>\u001b[0;34m\u001b[0m\n\u001b[0;32m----> 1\u001b[0;31m \u001b[0mdf\u001b[0m\u001b[0;34m[\u001b[0m\u001b[0;34m[\u001b[0m\u001b[0;34m\"speed\"\u001b[0m\u001b[0;34m]\u001b[0m\u001b[0;34m]\u001b[0m \u001b[0;34m=\u001b[0m \u001b[0mdf\u001b[0m\u001b[0;34m.\u001b[0m\u001b[0mvalue\u001b[0m\u001b[0;34m.\u001b[0m\u001b[0mstr\u001b[0m\u001b[0;34m.\u001b[0m\u001b[0msplit\u001b[0m\u001b[0;34m(\u001b[0m\u001b[0;34m\" \"\u001b[0m\u001b[0;34m)\u001b[0m\u001b[0;34m[\u001b[0m\u001b[0;36m0\u001b[0m\u001b[0;34m]\u001b[0m\u001b[0;34m\u001b[0m\u001b[0;34m\u001b[0m\u001b[0m\n\u001b[0m",
      "\u001b[0;32m~/.mars/mars/lib/python3.6/site-packages/pandas/core/frame.py\u001b[0m in \u001b[0;36m__setitem__\u001b[0;34m(self, key, value)\u001b[0m\n\u001b[1;32m   3039\u001b[0m             \u001b[0mself\u001b[0m\u001b[0;34m.\u001b[0m\u001b[0m_setitem_frame\u001b[0m\u001b[0;34m(\u001b[0m\u001b[0mkey\u001b[0m\u001b[0;34m,\u001b[0m \u001b[0mvalue\u001b[0m\u001b[0;34m)\u001b[0m\u001b[0;34m\u001b[0m\u001b[0;34m\u001b[0m\u001b[0m\n\u001b[1;32m   3040\u001b[0m         \u001b[0;32melif\u001b[0m \u001b[0misinstance\u001b[0m\u001b[0;34m(\u001b[0m\u001b[0mkey\u001b[0m\u001b[0;34m,\u001b[0m \u001b[0;34m(\u001b[0m\u001b[0mSeries\u001b[0m\u001b[0;34m,\u001b[0m \u001b[0mnp\u001b[0m\u001b[0;34m.\u001b[0m\u001b[0mndarray\u001b[0m\u001b[0;34m,\u001b[0m \u001b[0mlist\u001b[0m\u001b[0;34m,\u001b[0m \u001b[0mIndex\u001b[0m\u001b[0;34m)\u001b[0m\u001b[0;34m)\u001b[0m\u001b[0;34m:\u001b[0m\u001b[0;34m\u001b[0m\u001b[0;34m\u001b[0m\u001b[0m\n\u001b[0;32m-> 3041\u001b[0;31m             \u001b[0mself\u001b[0m\u001b[0;34m.\u001b[0m\u001b[0m_setitem_array\u001b[0m\u001b[0;34m(\u001b[0m\u001b[0mkey\u001b[0m\u001b[0;34m,\u001b[0m \u001b[0mvalue\u001b[0m\u001b[0;34m)\u001b[0m\u001b[0;34m\u001b[0m\u001b[0;34m\u001b[0m\u001b[0m\n\u001b[0m\u001b[1;32m   3042\u001b[0m         \u001b[0;32melse\u001b[0m\u001b[0;34m:\u001b[0m\u001b[0;34m\u001b[0m\u001b[0;34m\u001b[0m\u001b[0m\n\u001b[1;32m   3043\u001b[0m             \u001b[0;31m# set column\u001b[0m\u001b[0;34m\u001b[0m\u001b[0;34m\u001b[0m\u001b[0;34m\u001b[0m\u001b[0m\n",
      "\u001b[0;32m~/.mars/mars/lib/python3.6/site-packages/pandas/core/frame.py\u001b[0m in \u001b[0;36m_setitem_array\u001b[0;34m(self, key, value)\u001b[0m\n\u001b[1;32m   3074\u001b[0m                 )[1]\n\u001b[1;32m   3075\u001b[0m                 \u001b[0mself\u001b[0m\u001b[0;34m.\u001b[0m\u001b[0m_check_setitem_copy\u001b[0m\u001b[0;34m(\u001b[0m\u001b[0;34m)\u001b[0m\u001b[0;34m\u001b[0m\u001b[0;34m\u001b[0m\u001b[0m\n\u001b[0;32m-> 3076\u001b[0;31m                 \u001b[0mself\u001b[0m\u001b[0;34m.\u001b[0m\u001b[0miloc\u001b[0m\u001b[0;34m.\u001b[0m\u001b[0m_setitem_with_indexer\u001b[0m\u001b[0;34m(\u001b[0m\u001b[0;34m(\u001b[0m\u001b[0mslice\u001b[0m\u001b[0;34m(\u001b[0m\u001b[0;32mNone\u001b[0m\u001b[0;34m)\u001b[0m\u001b[0;34m,\u001b[0m \u001b[0mindexer\u001b[0m\u001b[0;34m)\u001b[0m\u001b[0;34m,\u001b[0m \u001b[0mvalue\u001b[0m\u001b[0;34m)\u001b[0m\u001b[0;34m\u001b[0m\u001b[0;34m\u001b[0m\u001b[0m\n\u001b[0m\u001b[1;32m   3077\u001b[0m \u001b[0;34m\u001b[0m\u001b[0m\n\u001b[1;32m   3078\u001b[0m     \u001b[0;32mdef\u001b[0m \u001b[0m_setitem_frame\u001b[0m\u001b[0;34m(\u001b[0m\u001b[0mself\u001b[0m\u001b[0;34m,\u001b[0m \u001b[0mkey\u001b[0m\u001b[0;34m,\u001b[0m \u001b[0mvalue\u001b[0m\u001b[0;34m)\u001b[0m\u001b[0;34m:\u001b[0m\u001b[0;34m\u001b[0m\u001b[0;34m\u001b[0m\u001b[0m\n",
      "\u001b[0;32m~/.mars/mars/lib/python3.6/site-packages/pandas/core/indexing.py\u001b[0m in \u001b[0;36m_setitem_with_indexer\u001b[0;34m(self, indexer, value)\u001b[0m\n\u001b[1;32m   1798\u001b[0m             \u001b[0;31m# actually do the set\u001b[0m\u001b[0;34m\u001b[0m\u001b[0;34m\u001b[0m\u001b[0;34m\u001b[0m\u001b[0m\n\u001b[1;32m   1799\u001b[0m             \u001b[0mself\u001b[0m\u001b[0;34m.\u001b[0m\u001b[0mobj\u001b[0m\u001b[0;34m.\u001b[0m\u001b[0m_consolidate_inplace\u001b[0m\u001b[0;34m(\u001b[0m\u001b[0;34m)\u001b[0m\u001b[0;34m\u001b[0m\u001b[0;34m\u001b[0m\u001b[0m\n\u001b[0;32m-> 1800\u001b[0;31m             \u001b[0mself\u001b[0m\u001b[0;34m.\u001b[0m\u001b[0mobj\u001b[0m\u001b[0;34m.\u001b[0m\u001b[0m_mgr\u001b[0m \u001b[0;34m=\u001b[0m \u001b[0mself\u001b[0m\u001b[0;34m.\u001b[0m\u001b[0mobj\u001b[0m\u001b[0;34m.\u001b[0m\u001b[0m_mgr\u001b[0m\u001b[0;34m.\u001b[0m\u001b[0msetitem\u001b[0m\u001b[0;34m(\u001b[0m\u001b[0mindexer\u001b[0m\u001b[0;34m=\u001b[0m\u001b[0mindexer\u001b[0m\u001b[0;34m,\u001b[0m \u001b[0mvalue\u001b[0m\u001b[0;34m=\u001b[0m\u001b[0mvalue\u001b[0m\u001b[0;34m)\u001b[0m\u001b[0;34m\u001b[0m\u001b[0;34m\u001b[0m\u001b[0m\n\u001b[0m\u001b[1;32m   1801\u001b[0m             \u001b[0mself\u001b[0m\u001b[0;34m.\u001b[0m\u001b[0mobj\u001b[0m\u001b[0;34m.\u001b[0m\u001b[0m_maybe_update_cacher\u001b[0m\u001b[0;34m(\u001b[0m\u001b[0mclear\u001b[0m\u001b[0;34m=\u001b[0m\u001b[0;32mTrue\u001b[0m\u001b[0;34m)\u001b[0m\u001b[0;34m\u001b[0m\u001b[0;34m\u001b[0m\u001b[0m\n\u001b[1;32m   1802\u001b[0m \u001b[0;34m\u001b[0m\u001b[0m\n",
      "\u001b[0;32m~/.mars/mars/lib/python3.6/site-packages/pandas/core/internals/managers.py\u001b[0m in \u001b[0;36msetitem\u001b[0;34m(self, indexer, value)\u001b[0m\n\u001b[1;32m    541\u001b[0m \u001b[0;34m\u001b[0m\u001b[0m\n\u001b[1;32m    542\u001b[0m     \u001b[0;32mdef\u001b[0m \u001b[0msetitem\u001b[0m\u001b[0;34m(\u001b[0m\u001b[0mself\u001b[0m\u001b[0;34m,\u001b[0m \u001b[0mindexer\u001b[0m\u001b[0;34m,\u001b[0m \u001b[0mvalue\u001b[0m\u001b[0;34m)\u001b[0m \u001b[0;34m->\u001b[0m \u001b[0;34m\"BlockManager\"\u001b[0m\u001b[0;34m:\u001b[0m\u001b[0;34m\u001b[0m\u001b[0;34m\u001b[0m\u001b[0m\n\u001b[0;32m--> 543\u001b[0;31m         \u001b[0;32mreturn\u001b[0m \u001b[0mself\u001b[0m\u001b[0;34m.\u001b[0m\u001b[0mapply\u001b[0m\u001b[0;34m(\u001b[0m\u001b[0;34m\"setitem\"\u001b[0m\u001b[0;34m,\u001b[0m \u001b[0mindexer\u001b[0m\u001b[0;34m=\u001b[0m\u001b[0mindexer\u001b[0m\u001b[0;34m,\u001b[0m \u001b[0mvalue\u001b[0m\u001b[0;34m=\u001b[0m\u001b[0mvalue\u001b[0m\u001b[0;34m)\u001b[0m\u001b[0;34m\u001b[0m\u001b[0;34m\u001b[0m\u001b[0m\n\u001b[0m\u001b[1;32m    544\u001b[0m \u001b[0;34m\u001b[0m\u001b[0m\n\u001b[1;32m    545\u001b[0m     def putmask(\n",
      "\u001b[0;32m~/.mars/mars/lib/python3.6/site-packages/pandas/core/internals/managers.py\u001b[0m in \u001b[0;36mapply\u001b[0;34m(self, f, align_keys, **kwargs)\u001b[0m\n\u001b[1;32m    407\u001b[0m                 \u001b[0mapplied\u001b[0m \u001b[0;34m=\u001b[0m \u001b[0mb\u001b[0m\u001b[0;34m.\u001b[0m\u001b[0mapply\u001b[0m\u001b[0;34m(\u001b[0m\u001b[0mf\u001b[0m\u001b[0;34m,\u001b[0m \u001b[0;34m**\u001b[0m\u001b[0mkwargs\u001b[0m\u001b[0;34m)\u001b[0m\u001b[0;34m\u001b[0m\u001b[0;34m\u001b[0m\u001b[0m\n\u001b[1;32m    408\u001b[0m             \u001b[0;32melse\u001b[0m\u001b[0;34m:\u001b[0m\u001b[0;34m\u001b[0m\u001b[0;34m\u001b[0m\u001b[0m\n\u001b[0;32m--> 409\u001b[0;31m                 \u001b[0mapplied\u001b[0m \u001b[0;34m=\u001b[0m \u001b[0mgetattr\u001b[0m\u001b[0;34m(\u001b[0m\u001b[0mb\u001b[0m\u001b[0;34m,\u001b[0m \u001b[0mf\u001b[0m\u001b[0;34m)\u001b[0m\u001b[0;34m(\u001b[0m\u001b[0;34m**\u001b[0m\u001b[0mkwargs\u001b[0m\u001b[0;34m)\u001b[0m\u001b[0;34m\u001b[0m\u001b[0;34m\u001b[0m\u001b[0m\n\u001b[0m\u001b[1;32m    410\u001b[0m             \u001b[0mresult_blocks\u001b[0m \u001b[0;34m=\u001b[0m \u001b[0m_extend_blocks\u001b[0m\u001b[0;34m(\u001b[0m\u001b[0mapplied\u001b[0m\u001b[0;34m,\u001b[0m \u001b[0mresult_blocks\u001b[0m\u001b[0;34m)\u001b[0m\u001b[0;34m\u001b[0m\u001b[0;34m\u001b[0m\u001b[0m\n\u001b[1;32m    411\u001b[0m \u001b[0;34m\u001b[0m\u001b[0m\n",
      "\u001b[0;32m~/.mars/mars/lib/python3.6/site-packages/pandas/core/internals/blocks.py\u001b[0m in \u001b[0;36msetitem\u001b[0;34m(self, indexer, value)\u001b[0m\n\u001b[1;32m    889\u001b[0m         \u001b[0;31m# set\u001b[0m\u001b[0;34m\u001b[0m\u001b[0;34m\u001b[0m\u001b[0;34m\u001b[0m\u001b[0m\n\u001b[1;32m    890\u001b[0m         \u001b[0;32melse\u001b[0m\u001b[0;34m:\u001b[0m\u001b[0;34m\u001b[0m\u001b[0;34m\u001b[0m\u001b[0m\n\u001b[0;32m--> 891\u001b[0;31m             \u001b[0mvalues\u001b[0m\u001b[0;34m[\u001b[0m\u001b[0mindexer\u001b[0m\u001b[0;34m]\u001b[0m \u001b[0;34m=\u001b[0m \u001b[0mvalue\u001b[0m\u001b[0;34m\u001b[0m\u001b[0;34m\u001b[0m\u001b[0m\n\u001b[0m\u001b[1;32m    892\u001b[0m \u001b[0;34m\u001b[0m\u001b[0m\n\u001b[1;32m    893\u001b[0m         \u001b[0;32mif\u001b[0m \u001b[0mtranspose\u001b[0m\u001b[0;34m:\u001b[0m\u001b[0;34m\u001b[0m\u001b[0;34m\u001b[0m\u001b[0m\n",
      "\u001b[0;31mValueError\u001b[0m: could not broadcast input array from shape (4) into shape (373150,1)"
     ]
    }
   ],
   "source": [
    "df[[\"speed\"]] = df.value.str.split(\" \")[0]"
   ]
  },
  {
   "cell_type": "code",
   "execution_count": 179,
   "metadata": {},
   "outputs": [
    {
     "data": {
      "text/html": [
       "<div>\n",
       "<style scoped>\n",
       "    .dataframe tbody tr th:only-of-type {\n",
       "        vertical-align: middle;\n",
       "    }\n",
       "\n",
       "    .dataframe tbody tr th {\n",
       "        vertical-align: top;\n",
       "    }\n",
       "\n",
       "    .dataframe thead th {\n",
       "        text-align: right;\n",
       "    }\n",
       "</style>\n",
       "<table border=\"1\" class=\"dataframe\">\n",
       "  <thead>\n",
       "    <tr style=\"text-align: right;\">\n",
       "      <th></th>\n",
       "      <th>date</th>\n",
       "      <th>value</th>\n",
       "      <th>speed</th>\n",
       "    </tr>\n",
       "  </thead>\n",
       "  <tbody>\n",
       "    <tr>\n",
       "      <th>0</th>\n",
       "      <td>1979-01-01 00:00:00</td>\n",
       "      <td>2.12 m / s</td>\n",
       "      <td>[2.12, m, /, s]</td>\n",
       "    </tr>\n",
       "    <tr>\n",
       "      <th>1</th>\n",
       "      <td>1979-01-01 01:00:00</td>\n",
       "      <td>2.38 m / s</td>\n",
       "      <td>[2.38, m, /, s]</td>\n",
       "    </tr>\n",
       "    <tr>\n",
       "      <th>2</th>\n",
       "      <td>1979-01-01 02:00:00</td>\n",
       "      <td>2.5 m / s</td>\n",
       "      <td>[2.5, m, /, s]</td>\n",
       "    </tr>\n",
       "    <tr>\n",
       "      <th>3</th>\n",
       "      <td>1979-01-01 03:00:00</td>\n",
       "      <td>2.43 m / s</td>\n",
       "      <td>[2.43, m, /, s]</td>\n",
       "    </tr>\n",
       "    <tr>\n",
       "      <th>4</th>\n",
       "      <td>1979-01-01 04:00:00</td>\n",
       "      <td>2.14 m / s</td>\n",
       "      <td>[2.14, m, /, s]</td>\n",
       "    </tr>\n",
       "    <tr>\n",
       "      <th>...</th>\n",
       "      <td>...</td>\n",
       "      <td>...</td>\n",
       "      <td>...</td>\n",
       "    </tr>\n",
       "    <tr>\n",
       "      <th>373145</th>\n",
       "      <td>2021-07-26 17:00:00</td>\n",
       "      <td>2.13 m / s</td>\n",
       "      <td>[2.13, m, /, s]</td>\n",
       "    </tr>\n",
       "    <tr>\n",
       "      <th>373146</th>\n",
       "      <td>2021-07-26 18:00:00</td>\n",
       "      <td>2.57 m / s</td>\n",
       "      <td>[2.57, m, /, s]</td>\n",
       "    </tr>\n",
       "    <tr>\n",
       "      <th>373147</th>\n",
       "      <td>2021-07-26 19:00:00</td>\n",
       "      <td>2.91 m / s</td>\n",
       "      <td>[2.91, m, /, s]</td>\n",
       "    </tr>\n",
       "    <tr>\n",
       "      <th>373148</th>\n",
       "      <td>2021-07-26 20:00:00</td>\n",
       "      <td>2.94 m / s</td>\n",
       "      <td>[2.94, m, /, s]</td>\n",
       "    </tr>\n",
       "    <tr>\n",
       "      <th>373149</th>\n",
       "      <td>2021-07-26 21:00:00</td>\n",
       "      <td>2.72 m / s</td>\n",
       "      <td>[2.72, m, /, s]</td>\n",
       "    </tr>\n",
       "  </tbody>\n",
       "</table>\n",
       "<p>373150 rows × 3 columns</p>\n",
       "</div>"
      ],
      "text/plain": [
       "                       date       value            speed\n",
       "0       1979-01-01 00:00:00  2.12 m / s  [2.12, m, /, s]\n",
       "1       1979-01-01 01:00:00  2.38 m / s  [2.38, m, /, s]\n",
       "2       1979-01-01 02:00:00   2.5 m / s   [2.5, m, /, s]\n",
       "3       1979-01-01 03:00:00  2.43 m / s  [2.43, m, /, s]\n",
       "4       1979-01-01 04:00:00  2.14 m / s  [2.14, m, /, s]\n",
       "...                     ...         ...              ...\n",
       "373145  2021-07-26 17:00:00  2.13 m / s  [2.13, m, /, s]\n",
       "373146  2021-07-26 18:00:00  2.57 m / s  [2.57, m, /, s]\n",
       "373147  2021-07-26 19:00:00  2.91 m / s  [2.91, m, /, s]\n",
       "373148  2021-07-26 20:00:00  2.94 m / s  [2.94, m, /, s]\n",
       "373149  2021-07-26 21:00:00  2.72 m / s  [2.72, m, /, s]\n",
       "\n",
       "[373150 rows x 3 columns]"
      ]
     },
     "execution_count": 179,
     "metadata": {},
     "output_type": "execute_result"
    }
   ],
   "source": [
    "df"
   ]
  },
  {
   "cell_type": "code",
   "execution_count": null,
   "metadata": {},
   "outputs": [],
   "source": []
  },
  {
   "cell_type": "code",
   "execution_count": 173,
   "metadata": {},
   "outputs": [],
   "source": [
    "file_u = \"era5_wind_100m_u-hourly-5.0405866_7.9194225.csv\"\n",
    "file_v = \"era5_wind_100m_v-hourly-5.0405866_7.9194225.csv\"\n",
    "df = import_and_merge_wind(file_u, file_v)"
   ]
  },
  {
   "cell_type": "code",
   "execution_count": 174,
   "metadata": {},
   "outputs": [
    {
     "data": {
      "text/html": [
       "<div>\n",
       "<style scoped>\n",
       "    .dataframe tbody tr th:only-of-type {\n",
       "        vertical-align: middle;\n",
       "    }\n",
       "\n",
       "    .dataframe tbody tr th {\n",
       "        vertical-align: top;\n",
       "    }\n",
       "\n",
       "    .dataframe thead th {\n",
       "        text-align: right;\n",
       "    }\n",
       "</style>\n",
       "<table border=\"1\" class=\"dataframe\">\n",
       "  <thead>\n",
       "    <tr style=\"text-align: right;\">\n",
       "      <th></th>\n",
       "      <th>date</th>\n",
       "      <th>value_x</th>\n",
       "      <th>value_y</th>\n",
       "    </tr>\n",
       "  </thead>\n",
       "  <tbody>\n",
       "    <tr>\n",
       "      <th>0</th>\n",
       "      <td>1979-01-01 00:00:00</td>\n",
       "      <td>2.12 m / s</td>\n",
       "      <td>2.01 m / s</td>\n",
       "    </tr>\n",
       "    <tr>\n",
       "      <th>1</th>\n",
       "      <td>1979-01-01 01:00:00</td>\n",
       "      <td>2.38 m / s</td>\n",
       "      <td>1.75 m / s</td>\n",
       "    </tr>\n",
       "    <tr>\n",
       "      <th>2</th>\n",
       "      <td>1979-01-01 02:00:00</td>\n",
       "      <td>2.5 m / s</td>\n",
       "      <td>1.49 m / s</td>\n",
       "    </tr>\n",
       "    <tr>\n",
       "      <th>3</th>\n",
       "      <td>1979-01-01 03:00:00</td>\n",
       "      <td>2.43 m / s</td>\n",
       "      <td>1.19 m / s</td>\n",
       "    </tr>\n",
       "    <tr>\n",
       "      <th>4</th>\n",
       "      <td>1979-01-01 04:00:00</td>\n",
       "      <td>2.14 m / s</td>\n",
       "      <td>0.5 m / s</td>\n",
       "    </tr>\n",
       "    <tr>\n",
       "      <th>...</th>\n",
       "      <td>...</td>\n",
       "      <td>...</td>\n",
       "      <td>...</td>\n",
       "    </tr>\n",
       "    <tr>\n",
       "      <th>373145</th>\n",
       "      <td>2021-07-26 17:00:00</td>\n",
       "      <td>2.13 m / s</td>\n",
       "      <td>4.7 m / s</td>\n",
       "    </tr>\n",
       "    <tr>\n",
       "      <th>373146</th>\n",
       "      <td>2021-07-26 18:00:00</td>\n",
       "      <td>2.57 m / s</td>\n",
       "      <td>5.25 m / s</td>\n",
       "    </tr>\n",
       "    <tr>\n",
       "      <th>373147</th>\n",
       "      <td>2021-07-26 19:00:00</td>\n",
       "      <td>2.91 m / s</td>\n",
       "      <td>5.1 m / s</td>\n",
       "    </tr>\n",
       "    <tr>\n",
       "      <th>373148</th>\n",
       "      <td>2021-07-26 20:00:00</td>\n",
       "      <td>2.94 m / s</td>\n",
       "      <td>4.61 m / s</td>\n",
       "    </tr>\n",
       "    <tr>\n",
       "      <th>373149</th>\n",
       "      <td>2021-07-26 21:00:00</td>\n",
       "      <td>2.72 m / s</td>\n",
       "      <td>4.28 m / s</td>\n",
       "    </tr>\n",
       "  </tbody>\n",
       "</table>\n",
       "<p>373150 rows × 3 columns</p>\n",
       "</div>"
      ],
      "text/plain": [
       "                       date     value_x     value_y\n",
       "0       1979-01-01 00:00:00  2.12 m / s  2.01 m / s\n",
       "1       1979-01-01 01:00:00  2.38 m / s  1.75 m / s\n",
       "2       1979-01-01 02:00:00   2.5 m / s  1.49 m / s\n",
       "3       1979-01-01 03:00:00  2.43 m / s  1.19 m / s\n",
       "4       1979-01-01 04:00:00  2.14 m / s   0.5 m / s\n",
       "...                     ...         ...         ...\n",
       "373145  2021-07-26 17:00:00  2.13 m / s   4.7 m / s\n",
       "373146  2021-07-26 18:00:00  2.57 m / s  5.25 m / s\n",
       "373147  2021-07-26 19:00:00  2.91 m / s   5.1 m / s\n",
       "373148  2021-07-26 20:00:00  2.94 m / s  4.61 m / s\n",
       "373149  2021-07-26 21:00:00  2.72 m / s  4.28 m / s\n",
       "\n",
       "[373150 rows x 3 columns]"
      ]
     },
     "execution_count": 174,
     "metadata": {},
     "output_type": "execute_result"
    }
   ],
   "source": [
    "df"
   ]
  },
  {
   "cell_type": "code",
   "execution_count": null,
   "metadata": {},
   "outputs": [],
   "source": [
    "value_of_result[\"value\"].tolist()[0]"
   ]
  },
  {
   "cell_type": "code",
   "execution_count": null,
   "metadata": {},
   "outputs": [],
   "source": [
    "result = value_of_result.index[0]"
   ]
  },
  {
   "cell_type": "code",
   "execution_count": null,
   "metadata": {},
   "outputs": [],
   "source": [
    "current = result\n",
    "selection = df.iloc[current-24*12 : current]"
   ]
  },
  {
   "cell_type": "code",
   "execution_count": null,
   "metadata": {},
   "outputs": [],
   "source": [
    "data = value_of_result[\"value\"].tolist()[0]"
   ]
  },
  {
   "cell_type": "code",
   "execution_count": null,
   "metadata": {},
   "outputs": [],
   "source": [
    "final = len([x for x in list_selection if data > x])"
   ]
  }
 ],
 "metadata": {
  "kernelspec": {
   "display_name": "Python 3",
   "language": "python",
   "name": "python3"
  },
  "language_info": {
   "codemirror_mode": {
    "name": "ipython",
    "version": 3
   },
   "file_extension": ".py",
   "mimetype": "text/x-python",
   "name": "python",
   "nbconvert_exporter": "python",
   "pygments_lexer": "ipython3",
   "version": "3.6.9"
  }
 },
 "nbformat": 4,
 "nbformat_minor": 4
}
