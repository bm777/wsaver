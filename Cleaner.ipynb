{
 "cells": [
  {
   "cell_type": "code",
   "execution_count": 1,
   "metadata": {},
   "outputs": [],
   "source": [
    "import dweather_client"
   ]
  },
  {
   "cell_type": "code",
   "execution_count": 2,
   "metadata": {},
   "outputs": [],
   "source": [
    "from dweather_client import client"
   ]
  },
  {
   "cell_type": "code",
   "execution_count": 3,
   "metadata": {},
   "outputs": [],
   "source": [
    "valid_name = client.get_heads()"
   ]
  },
  {
   "cell_type": "code",
   "execution_count": 5,
   "metadata": {},
   "outputs": [
    {
     "data": {
      "text/plain": [
       "{'aemo-semihourly': 'QmbvTDM93jcMNAY4VMcnWyEcLp6ud24MpwsERWf6drJ5hh',\n",
       " 'alberta_power-hourly': 'Qmbvhji5QqxD163GpS7oiWAJDFT7NQ9xY2XUGfoDkREqdX',\n",
       " 'atcf_btk-seasonal': 'QmUhXgUpCQbP6nwA4w1ijNP1wrMcRfA9eaSDEkwbito7cQ',\n",
       " 'chirpsc_final_05-daily': 'QmfEuyqJyUnmfq9Um5jzSpe8gAPfif9p3ixTcqQfWeHtm7',\n",
       " 'chirpsc_final_25-daily': 'QmVNqmPAtAvtVshNRf9Vm8katrubztWSHHKMHeF9zrRhTk',\n",
       " 'chirpsc_prelim_05-daily': 'QmenYP6W3y5Frov2L97fpLfCeWbCVBEhskydD8Kxq6QV4x',\n",
       " 'cpcc_precip_global-daily': 'QmZq7WEDiuCR9tUtEsEnGpgyGtkkDganJFBFKRAjYgDPXH',\n",
       " 'cpcc_precip_us-daily': 'QmRtmn8PWGpaSiDbtK99rjKCbNKbXD534ENCzxfSJ9szvU',\n",
       " 'cpcc_temp_max-daily': 'QmYrDykJSptvqiVnTXgZNDHN7bELxXMBsSs6tnAda8Bq2K',\n",
       " 'cpcc_temp_min-daily': 'QmSqQ9nE3PfGQL6kkvTg3JRSyBYjMugFjfYmZeLpwKNDb6',\n",
       " 'edd-daily': 'QmdSQmGC2SzeVWdpnZvyWGnXZ3NT9RDeocFQBf7duX7MFo',\n",
       " 'era5_land_2m_temp-hourly': 'Qmay7EYxDbzm9256rSq34qeKHMhbQcEoXxmu28Gp9cxE3G',\n",
       " 'era5_land_precip-hourly': 'Qmc8dsgg3RxeusfMREUGCfPVMasbGDWSm7dLQ8WJbkSR9R',\n",
       " 'era5_land_snowfall-hourly': 'QmTvn2MTbDytx3Ndq4p3TEDwhAbwESDLbzyzg6NzwX9859',\n",
       " 'era5_land_wind_u-hourly': 'Qmet3kNoRaC2GweHFXiVTEuvB7kihMEWLKxN7L1ktfFcoH',\n",
       " 'era5_land_wind_v-hourly': 'QmZcDvm7QkuDuUrAbc6BGQCj2jfZ2rusw3Tv3UTwa6pseF',\n",
       " 'era5_surface_runoff-hourly': 'Qme9wWVyFkCeFdXdBU5ZqyingpSqb13Qk1YMBdT6X28AP9',\n",
       " 'era5_volumetric_soil_water_layer_1-hourly': 'Qmbn7nAsU5zDt6gvBZ8v3s4mCpegE2yZaKuh4QsYaavRJo',\n",
       " 'era5_wind_100m_u-hourly': 'QmTdqqL6Y8zxo3jftr1TnxA4akq8Ne4uV5J4WDA48Xb3p8',\n",
       " 'era5_wind_100m_v-hourly': 'QmPDqkzaNXCvYNUfyxP89WuXC8P6p8x8BFTg7F5YsZoJ5g',\n",
       " 'ghcnd': 'QmVohSRmkuC4Bkmck5yYkGnWEduYAvbQUpk5DB9x13sBCf',\n",
       " 'ghcnd-imputed-daily': 'QmbU6Vcza9JAE2KbfrDoZz6rCx1Q7eeXbisGGTr8v5CQKf',\n",
       " 'ibtracs-tropical-storm': 'QmSVj332mrZ4dEPBCkXXNf8tdXdVKhiJUERdBDywdee1ix',\n",
       " 'ibtracs_storm_basins': 'QmbweRv3g8VofeLB1kT7azXJ3Z31i2CNHiAXypoXbtecQG',\n",
       " 'nass_corn-yearly': 'QmYjXRzthABhccUG816774ZJdtsMrn9JnzGeSUSc6RfRKw',\n",
       " 'nass_soybeans-yearly': 'QmTmEbMoHWKc39uAQoRHavUKzfYDcoGLxjzwqgcSLmTnjF',\n",
       " 'prismc-precip-daily': 'QmPb7YAAWvLw6fGBqeo2YShJW1tLV9VJq5dG1zcPyMterg',\n",
       " 'prismc-tmax-daily': 'QmQGDDyNQ71zbUDdVjtrs8aUetSvosbk1iMMk5RC9WaFuZ',\n",
       " 'prismc-tmin-daily': 'QmVQnKRrVJ5FDJ53YA37GsFYVrc3jJkBcjCit18jsMgMkc',\n",
       " 'rma_t_yield-single-value': 'QmSRVxXJwpnC8suuJ56rL1KQdhyBdfkQyRXUDEjNMyrTcf',\n",
       " 'rma_t_yield_imputed-single-value': 'QmcnHf8PpQ9CEyYGVbhCKBA1biK7Xpqrhq3VMpbjNSdDYM',\n",
       " 'rmasco_imputed-yearly': 'QmQ8amKRc2AZrE1C73hkao1vDCeKoL1XhLTfgtW2sS1Cjh',\n",
       " 'rtma_dew_point-hourly': 'QmPYK6TTNgdK8u7Q1jqKY79bYcGAwynXZGxoinyZXfj8bc',\n",
       " 'rtma_pcp-hourly': 'QmUEQQvJSivwTxwrpeurC7zQLjY7isM2hWDr3rC6TAH3cU',\n",
       " 'rtma_temp-hourly': 'QmXrNsnfuf9hwkNNtKf6j7dD1QMjN77oszw1N5jALyF6Av',\n",
       " 'rtma_wind_u-hourly': 'QmWAHJckiuufG3Wk1W2x1KxC6jy9kFECzYoSornufZoGza',\n",
       " 'rtma_wind_v-hourly': 'QmUwwUDUgKnp4WcjeVcEyBid4JSqPGxC79wWKiSHJUHEop',\n",
       " 'sco-yearly': 'QmeQD3DMR4F1MckAz6kBYRY4x8b6SGrTTAgnCiLyeuEPZd',\n",
       " 'storm-simulated-hurricane': 'QmaAunmd9YaJYFJYS5di8e53yGduGh3MChcsHg8XGPeqhX',\n",
       " 'teleconnections-el-nino-monthly': 'QmcfZLWWeA7a6kXPmGnJFYzSCisi6b1TfTodCL9afVEHPP',\n",
       " 'vhi': 'QmfFKKEznuuXhoGQ6Zy3WP9HfAsjEnHwk6mpo44j1AFwtP'}"
      ]
     },
     "execution_count": 5,
     "metadata": {},
     "output_type": "execute_result"
    }
   ],
   "source": [
    "valid_name"
   ]
  },
  {
   "cell_type": "code",
   "execution_count": 7,
   "metadata": {},
   "outputs": [],
   "source": [
    "metadata = client.get_metadata(valid_name[\"cpcc_temp_max-daily\"])"
   ]
  },
  {
   "cell_type": "code",
   "execution_count": 8,
   "metadata": {},
   "outputs": [
    {
     "data": {
      "text/plain": [
       "{'name': 'cpc_temp_max',\n",
       " 'local path': './cpc/temp/max/20210702',\n",
       " 'chain file': 'chain.json',\n",
       " 'climate category': 'temperature',\n",
       " 'compression': 'gzip',\n",
       " 'date range': ['2021-07-02T00:00:00', '2021-07-02T00:00:00'],\n",
       " 'entry delimiter': ',',\n",
       " 'filename decimal precision': 3,\n",
       " 'latitude range': [-89.75, 89.75],\n",
       " 'longitude range': [0.25, 359.75],\n",
       " 'missing value': '',\n",
       " 'period': 'daily',\n",
       " 'precision': 0.01,\n",
       " 'precision digits': 2,\n",
       " 'previous hash': 'QmNsJ4m127NS6Zz2vmqRcBNNUA2F4kc23W9Cq9tjfctU9n',\n",
       " 'resolution': 0.5,\n",
       " 'revision': 'final',\n",
       " 'documentation': {'cpc original data url': 'ftp://ftp.cpc.ncep.noaa.gov/',\n",
       "  'cpc info url': 'https://www.cpc.ncep.noaa.gov/',\n",
       "  'arbol chain info': \"Follow the hashes in the 'previous hash' field backward until you reach a 'previous hash' value of 'null' to read the entire history of this set. Alternatively, you can get the entire chain of hashes from the 'chain.json' file in this directory\",\n",
       "  'arbol clustering': 'In all sets besides the root set, latitudes are compiled into zip or tar archives (code should be written to handle both cases) that contain each lat/lon in the latitude'},\n",
       " 'time generated': '2021-07-03 17:28:25.230784',\n",
       " 'unit of measurement': 'degC',\n",
       " 'year delimiter': '\\n',\n",
       " 'climate index': 'temperature'}"
      ]
     },
     "execution_count": 8,
     "metadata": {},
     "output_type": "execute_result"
    }
   ],
   "source": [
    "metadata"
   ]
  },
  {
   "cell_type": "code",
   "execution_count": null,
   "metadata": {},
   "outputs": [],
   "source": []
  }
 ],
 "metadata": {
  "kernelspec": {
   "display_name": "Python 3",
   "language": "python",
   "name": "python3"
  },
  "language_info": {
   "codemirror_mode": {
    "name": "ipython",
    "version": 3
   },
   "file_extension": ".py",
   "mimetype": "text/x-python",
   "name": "python",
   "nbconvert_exporter": "python",
   "pygments_lexer": "ipython3",
   "version": "3.6.9"
  }
 },
 "nbformat": 4,
 "nbformat_minor": 4
}
